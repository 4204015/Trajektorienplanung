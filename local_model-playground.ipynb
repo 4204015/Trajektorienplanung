{
 "cells": [
  {
   "cell_type": "code",
   "execution_count": 1,
   "metadata": {},
   "outputs": [],
   "source": [
    "%matplotlib notebook\n",
    "import time\n",
    "import numpy as np\n",
    "import scipy as sp\n",
    "import ipywidgets as widgets\n",
    "from inspect import signature\n",
    "from ipywidgets import interact, interact_manual\n",
    "from IPython.display import display\n",
    "from lolimot import LolimotRegressor\n",
    "from plot import PlotterLLM\n",
    "from functions import paraboloid"
   ]
  },
  {
   "cell_type": "markdown",
   "metadata": {},
   "source": [
    "# Local Model Playground"
   ]
  },
  {
   "cell_type": "code",
   "execution_count": 2,
   "metadata": {},
   "outputs": [],
   "source": [
    "# Benutzerdefnierte Funktionen\n",
    "functions=dict(\n",
    "    arctan=lambda u: 3 * np.arctan(2*u) + 5,\n",
    "    poly=lambda u: (4+u)*(u+1)*(u-1)*(u-3)/14,\n",
    "    trigonometric=lambda u: np.sin(2*np.pi*u/4) + 0.5 * np.cos(2*np.pi*u),\n",
    "    affensattel=lambda u1, u2: (u1**3 - 3 * u1 * u2**2 ) / 200,\n",
    "    paraboloid=paraboloid(N=3))"
   ]
  },
  {
   "cell_type": "code",
   "execution_count": 3,
   "metadata": {
    "scrolled": false
   },
   "outputs": [
    {
     "name": "stdout",
     "output_type": "stream",
     "text": [
      "Push 'Run Interact' to start:\n"
     ]
    },
    {
     "data": {
      "application/vnd.jupyter.widget-view+json": {
       "model_id": "53e571e0a1f04859bcf047dbea0e5e92",
       "version_major": 2,
       "version_minor": 0
      },
      "text/plain": [
       "Box(children=(Label(value='plot options:'), ToggleButton(value=True, description='result', tooltip='Descriptio…"
      ]
     },
     "metadata": {},
     "output_type": "display_data"
    },
    {
     "data": {
      "application/vnd.jupyter.widget-view+json": {
       "model_id": "0cfda3344d7d4e3385813aa2981d6463",
       "version_major": 2,
       "version_minor": 0
      },
      "text/plain": [
       "interactive(children=(IntSlider(value=1, continuous_update=False, description='complexity', layout=Layout(widt…"
      ]
     },
     "metadata": {},
     "output_type": "display_data"
    }
   ],
   "source": [
    "items = [widgets.ToggleButton(value=True, description='result', disabled=False, tooltip='Description'),\n",
    "         widgets.ToggleButton(value=True, description='error', disabled=False, tooltip='Description'),\n",
    "         widgets.ToggleButton(value=False, description='validity_function', disabled=False, tooltip='Description'),\n",
    "         widgets.ToggleButton(value=False, description='models', disabled=False, tooltip='Description'),\n",
    "         widgets.ToggleButton(value=False, description='report', disabled=False, tooltip='Description')]\n",
    "\n",
    "def lolimot(model_complexity, p, x_range, func, k):\n",
    "    # TRAINING\n",
    "    llm = LolimotRegressor(model_complexity=model_complexity, p=p)\n",
    "    \n",
    "    N = len(signature(func).parameters)\n",
    "    \n",
    "    if N == 1:\n",
    "        x = np.reshape(np.linspace(x_range[0], x_range[1], k), (k, 1))\n",
    "        y = func(x).ravel()\n",
    "        _ = llm.fit(x, y)\n",
    "    \n",
    "        # PLOT\n",
    "        k = k*2\n",
    "        x = np.reshape(np.linspace(x_range[0], x_range[1], k), (k, 1))\n",
    "        y = func(x)\n",
    "        \n",
    "    elif N == 2:\n",
    "        x1, x2 = np.meshgrid(np.linspace(-5, 5, k), np.linspace(-5, 5, k))\n",
    "        y = np.reshape(func(x1, x2), (k*k, ))\n",
    "        X = np.vstack((x1.flatten(), x2.flatten())).T\n",
    "        \n",
    "        _ = llm.fit(X, y)\n",
    "    \n",
    "        # PLOT\n",
    "        k = int(np.sqrt(k) * 8)\n",
    "        x1, x2 = np.meshgrid(np.linspace(-5, 5, k), np.linspace(-5, 5, k))\n",
    "        y = np.reshape(func(x1, x2), (k*k, ))\n",
    "        x = [x1, x2]\n",
    "    else:\n",
    "        x = np.meshgrid(*[np.linspace(x_range[0], x_range[1], k) for _ in range(N)])\n",
    "        y = np.reshape(func(*x), (k**N, ))\n",
    "        X = np.vstack((x_i.flatten() for x_i in x)).T\n",
    "        \n",
    "        _ = llm.fit(X, y)\n",
    "        \n",
    "        # PLOT\n",
    "        k = int(np.sqrt(k) * 8)\n",
    "        x = np.meshgrid(*[np.linspace(x_range[0], x_range[1], k) for _ in range(N)])\n",
    "        y = np.reshape(func(*x), (k**N, ))\n",
    "\n",
    "    plotter = PlotterLLM(options=[item.description for item in items if item.value])\n",
    "    plotter.update(x, y, llm)\n",
    "\n",
    "# Widgets\n",
    "complexity_range = widgets.IntSlider(\n",
    "    continuous_update=False, min=1, max=1000,\n",
    "    layout=widgets.Layout(width='90%'),\n",
    "    description=\"complexity\")\n",
    "p_range = widgets.FloatSlider(\n",
    "    continuous_update=False, min=0.05, max=1.5,\n",
    "    value=0.33, step=0.01, layout=widgets.Layout(width='90%'))\n",
    "x_range = widgets.IntRangeSlider(\n",
    "    continuous_update=False, min=-20, max=20,\n",
    "    value=[-5, 5], layout=widgets.Layout(width='90%'),\n",
    "    description=\"range\")\n",
    "functions = widgets.Dropdown(\n",
    "    options=functions)\n",
    "sample_num = widgets.IntText(value=100, description='number of samples:', disabled=False)\n",
    "\n",
    "\n",
    "print(\"Push 'Run Interact' to start:\")\n",
    "plot_options = widgets.Box([widgets.Label(value=\"plot options:\")] + items)\n",
    "display(plot_options)\n",
    "interact_manual(lolimot, model_complexity=complexity_range, p=p_range, x_range=x_range, func=functions, k=sample_num);"
   ]
  }
 ],
 "metadata": {
  "kernelspec": {
   "display_name": "Python 3",
   "language": "python",
   "name": "python3"
  },
  "language_info": {
   "codemirror_mode": {
    "name": "ipython",
    "version": 3
   },
   "file_extension": ".py",
   "mimetype": "text/x-python",
   "name": "python",
   "nbconvert_exporter": "python",
   "pygments_lexer": "ipython3",
   "version": "3.6.5"
  }
 },
 "nbformat": 4,
 "nbformat_minor": 2
}
