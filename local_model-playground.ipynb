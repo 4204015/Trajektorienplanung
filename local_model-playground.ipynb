{
 "cells": [
  {
   "cell_type": "code",
   "execution_count": 1,
   "metadata": {},
   "outputs": [],
   "source": [
    "%matplotlib notebook\n",
    "import time\n",
    "import numpy as np\n",
    "import scipy as sp\n",
    "import ipywidgets as widgets\n",
    "from inspect import signature\n",
    "from ipywidgets import interact, interact_manual\n",
    "from IPython.display import display\n",
    "from lolimot import LolimotRegressor\n",
    "from plot import PlotterLLM"
   ]
  },
  {
   "cell_type": "markdown",
   "metadata": {},
   "source": [
    "# Local Model Playground"
   ]
  },
  {
   "cell_type": "code",
   "execution_count": 2,
   "metadata": {},
   "outputs": [],
   "source": [
    "# Benutzerdefnierte Funktionen\n",
    "functions=dict(\n",
    "    arctan=lambda u: 3 * np.arctan(2*u) + 5,\n",
    "    poly=lambda u: (4+u)*(u+1)*(u-1)*(u-3)/14,\n",
    "    trigonometric=lambda u: np.sin(2*np.pi*u/4) + 0.5 * np.cos(2*np.pi*u),\n",
    "    affensattel=lambda u1, u2: (u1**3 - 3 * u1 * u2**2 ) / 200)"
   ]
  },
  {
   "cell_type": "code",
   "execution_count": 3,
   "metadata": {
    "scrolled": false
   },
   "outputs": [
    {
     "name": "stdout",
     "output_type": "stream",
     "text": [
      "Push 'Run Interact' to start\n"
     ]
    },
    {
     "data": {
      "application/vnd.jupyter.widget-view+json": {
       "model_id": "34ed35af52c94513bc943a3807c92937",
       "version_major": 2,
       "version_minor": 0
      },
      "text/html": [
       "<p>Failed to display Jupyter Widget of type <code>Box</code>.</p>\n",
       "<p>\n",
       "  If you're reading this message in the Jupyter Notebook or JupyterLab Notebook, it may mean\n",
       "  that the widgets JavaScript is still loading. If this message persists, it\n",
       "  likely means that the widgets JavaScript library is either not installed or\n",
       "  not enabled. See the <a href=\"https://ipywidgets.readthedocs.io/en/stable/user_install.html\">Jupyter\n",
       "  Widgets Documentation</a> for setup instructions.\n",
       "</p>\n",
       "<p>\n",
       "  If you're reading this message in another frontend (for example, a static\n",
       "  rendering on GitHub or <a href=\"https://nbviewer.jupyter.org/\">NBViewer</a>),\n",
       "  it may mean that your frontend doesn't currently support widgets.\n",
       "</p>\n"
      ],
      "text/plain": [
       "Box(children=(Label(value='plot options:'), ToggleButton(value=True, description='result', tooltip='Description'), ToggleButton(value=True, description='error', tooltip='Description'), ToggleButton(value=False, description='validity_function', tooltip='Description'), ToggleButton(value=False, description='models', tooltip='Description'), ToggleButton(value=False, description='report', tooltip='Description')))"
      ]
     },
     "metadata": {},
     "output_type": "display_data"
    },
    {
     "data": {
      "application/vnd.jupyter.widget-view+json": {
       "model_id": "c162aa9746f04d4da237d91f183bbc26",
       "version_major": 2,
       "version_minor": 0
      },
      "text/html": [
       "<p>Failed to display Jupyter Widget of type <code>interactive</code>.</p>\n",
       "<p>\n",
       "  If you're reading this message in the Jupyter Notebook or JupyterLab Notebook, it may mean\n",
       "  that the widgets JavaScript is still loading. If this message persists, it\n",
       "  likely means that the widgets JavaScript library is either not installed or\n",
       "  not enabled. See the <a href=\"https://ipywidgets.readthedocs.io/en/stable/user_install.html\">Jupyter\n",
       "  Widgets Documentation</a> for setup instructions.\n",
       "</p>\n",
       "<p>\n",
       "  If you're reading this message in another frontend (for example, a static\n",
       "  rendering on GitHub or <a href=\"https://nbviewer.jupyter.org/\">NBViewer</a>),\n",
       "  it may mean that your frontend doesn't currently support widgets.\n",
       "</p>\n"
      ],
      "text/plain": [
       "interactive(children=(IntSlider(value=1, continuous_update=False, description='complexity', layout=Layout(width='90%'), max=1000, min=1), FloatSlider(value=0.33, continuous_update=False, description='p', layout=Layout(width='90%'), max=1.5, min=0.05, step=0.01), IntRangeSlider(value=(-5, 5), continuous_update=False, description='range', layout=Layout(width='90%'), max=20, min=-20), Dropdown(description='func', options={'arctan': <function <lambda> at 0x7f79c63159d8>, 'poly': <function <lambda> at 0x7f79c6315a60>, 'trigonometric': <function <lambda> at 0x7f79c6315ae8>, 'affensattel': <function <lambda> at 0x7f79c6315b70>}, value=<function <lambda> at 0x7f79c63159d8>), IntText(value=100, description='number of samples:'), Button(description='Run Interact', style=ButtonStyle()), Output()), _dom_classes=('widget-interact',))"
      ]
     },
     "metadata": {},
     "output_type": "display_data"
    }
   ],
   "source": [
    "items = [widgets.ToggleButton(value=True, description='result', disabled=False, tooltip='Description'),\n",
    "         widgets.ToggleButton(value=True, description='error', disabled=False, tooltip='Description'),\n",
    "         widgets.ToggleButton(value=False, description='validity_function', disabled=False, tooltip='Description'),\n",
    "         widgets.ToggleButton(value=False, description='models', disabled=False, tooltip='Description'),\n",
    "         widgets.ToggleButton(value=False, description='report', disabled=False, tooltip='Description')]\n",
    "\n",
    "def lolimot(model_complexity, p, x_range, func, k):\n",
    "    # TRAINING\n",
    "    llm = LolimotRegressor(model_complexity=model_complexity, p=p)\n",
    "    \n",
    "    if len(signature(func).parameters) == 2:\n",
    "        x1, x2 = np.meshgrid(np.linspace(-5, 5, k), np.linspace(-5, 5, k))\n",
    "        y = np.reshape(func(x1, x2), (k*k, ))\n",
    "        X = np.vstack((x1.flatten(), x2.flatten())).T\n",
    "        \n",
    "        _ = llm.fit(X, y)\n",
    "    \n",
    "        # PLOT\n",
    "        k = int(np.sqrt(k) * 8)\n",
    "        x1, x2 = np.meshgrid(np.linspace(-5, 5, k), np.linspace(-5, 5, k))\n",
    "        y = np.reshape(func(x1, x2), (k*k, ))\n",
    "        x = [x1, x2]\n",
    "        \n",
    "    else:\n",
    "        x = np.reshape(np.linspace(x_range[0], x_range[1], k), (k, 1))\n",
    "        y = func(x).ravel()\n",
    "        _ = llm.fit(x, y)\n",
    "    \n",
    "        # PLOT\n",
    "        k = k*2\n",
    "        x = np.reshape(np.linspace(x_range[0], x_range[1], k), (k, 1))\n",
    "        y = func(x)\n",
    "\n",
    "    plotter = PlotterLLM(options=[item.description for item in items if item.value])\n",
    "    plotter.update(x, y, llm)\n",
    "\n",
    "# Widgets\n",
    "complexity_range = widgets.IntSlider(\n",
    "    continuous_update=False, min=1, max=1000,\n",
    "    layout=widgets.Layout(width='90%'),\n",
    "    description=\"complexity\")\n",
    "p_range = widgets.FloatSlider(\n",
    "    continuous_update=False, min=0.05, max=1.5,\n",
    "    value=0.33, step=0.01, layout=widgets.Layout(width='90%'))\n",
    "x_range = widgets.IntRangeSlider(\n",
    "    continuous_update=False, min=-20, max=20,\n",
    "    value=[-5, 5], layout=widgets.Layout(width='90%'),\n",
    "    description=\"range\")\n",
    "functions = widgets.Dropdown(\n",
    "    options=functions)\n",
    "sample_num = widgets.IntText(value=100, description='number of samples:', disabled=False)\n",
    "\n",
    "\n",
    "print(\"Push 'Run Interact' to start:\")\n",
    "plot_options = widgets.Box([widgets.Label(value=\"plot options:\")] + items)\n",
    "display(plot_options)\n",
    "interact_manual(lolimot, model_complexity=complexity_range, p=p_range, x_range=x_range, func=functions, k=sample_num);"
   ]
  }
 ],
 "metadata": {
  "kernelspec": {
   "display_name": "Python 3",
   "language": "python",
   "name": "python3"
  },
  "language_info": {
   "codemirror_mode": {
    "name": "ipython",
    "version": 3
   },
   "file_extension": ".py",
   "mimetype": "text/x-python",
   "name": "python",
   "nbconvert_exporter": "python",
   "pygments_lexer": "ipython3",
   "version": "3.6.4"
  }
 },
 "nbformat": 4,
 "nbformat_minor": 2
}
