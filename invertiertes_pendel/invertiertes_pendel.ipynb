{
 "cells": [
  {
   "cell_type": "markdown",
   "metadata": {},
   "source": [
    "**Betrachtetes System**: Pendel mit horizontal verschieblicher Aufhängung (\"Wagen-Pendel-System\")\n",
    "\n",
    "<img src=\"system.svg\">"
   ]
  },
  {
   "cell_type": "code",
   "execution_count": 1,
   "metadata": {},
   "outputs": [],
   "source": [
    "%load_ext ipydex.displaytools\n",
    "%matplotlib inline\n",
    "\n",
    "import sympy as sp\n",
    "from sympy import sin, cos, pi\n",
    "from sympy.interactive import printing\n",
    "import numpy as np\n",
    "import scipy as sc\n",
    "import scipy.signal as scs\n",
    "from scipy.integrate import odeint\n",
    "from scipy.constants import g as gravity\n",
    "import symbtools as st\n",
    "import symbtools.modeltools as mt\n",
    "import matplotlib.pyplot as plt\n",
    "\n",
    "printing.init_printing(1)"
   ]
  },
  {
   "cell_type": "code",
   "execution_count": 2,
   "metadata": {},
   "outputs": [
    {
     "data": {
      "image/png": "[encoded data removed]",
      "text/latex": [
       "$$\\verb|n| := 2$$"
      ],
      "text/plain": [
       "n := 2"
      ]
     },
     "metadata": {},
     "output_type": "display_data"
    },
    {
     "name": "stdout",
     "output_type": "stream",
     "text": [
      "---\n"
     ]
    },
    {
     "data": {
      "image/png": "[encoded data removed]",
      "text/latex": [
       "$$\\verb|ttheta.T| := \\left[\\begin{matrix}\\varphi & q\\end{matrix}\\right]$$"
      ],
      "text/plain": [
       "ttheta.T := [varphi  q]"
      ]
     },
     "metadata": {},
     "output_type": "display_data"
    },
    {
     "name": "stdout",
     "output_type": "stream",
     "text": [
      "---\n"
     ]
    }
   ],
   "source": [
    "t = sp.Symbol('t')\n",
    "n_p = 1\n",
    "n_q = 1\n",
    "n = n_p + n_q ##:\n",
    "pp = st.symb_vector((\"varphi\", ))\n",
    "qq = st.symb_vector((\"q\", ))\n",
    "#aa = st.symb_vector(\"a1:{0}\".format(Nq+1))\n",
    "#ww = st.symb_vector(\"w1:{0}\".format(Nq+1))\n",
    "\n",
    "ttheta = st.row_stack(pp, qq) ##:T\n",
    "tthetad = st.time_deriv(ttheta, ttheta)\n",
    "tthetadd = st.time_deriv(ttheta, ttheta, order=2)\n",
    "st.make_global(ttheta, tthetad)"
   ]
  },
  {
   "cell_type": "code",
   "execution_count": 3,
   "metadata": {},
   "outputs": [],
   "source": [
    "params = sp.symbols('m1, m2, l, g, q_r, t, T')\n",
    "st.make_global(params)\n",
    "\n",
    "u = sp.Symbol(\"u\")"
   ]
  },
  {
   "cell_type": "markdown",
   "metadata": {},
   "source": [
    "### Festlegung der Geometrie des mechanischen Systemes"
   ]
  },
  {
   "cell_type": "code",
   "execution_count": 4,
   "metadata": {},
   "outputs": [],
   "source": [
    "#Einheitsvektoren\n",
    "ex = sp.Matrix([1,0])\n",
    "ey = sp.Matrix([0,1])\n",
    "\n",
    "# Koordinaten der Schwerpunkte und Gelenke\n",
    "S1 = ex * q  # Schwerpunkt Wagen\n",
    "G2 = S1      # Pendel-Gelenk\n",
    "\n",
    "# Schwerpunkt des Pendels (Pendel zeigt für kleine Winkel nach oben)\n",
    "S2 = G2 + mt.Rz(varphi)*ey*l\n",
    "\n",
    "# Zeitableitungen der Schwerpunktskoordinaten\n",
    "S1d, S2d  = st.col_split(st.time_deriv(st.col_stack(S1, S2), ttheta))"
   ]
  },
  {
   "cell_type": "code",
   "execution_count": 5,
   "metadata": {},
   "outputs": [],
   "source": [
    "# Energie\n",
    "E_rot = 0 # (Punktmassenmodell)\n",
    "E_trans = (m1*S1d.T*S1d  +  m2*S2d.T*S2d) / 2\n",
    "\n",
    "E = E_rot + E_trans[0]\n",
    "\n",
    "V = m2*g*S2[1]"
   ]
  },
  {
   "cell_type": "markdown",
   "metadata": {},
   "source": [
    "### Zustandsraumdarstellung"
   ]
  },
  {
   "cell_type": "code",
   "execution_count": 6,
   "metadata": {},
   "outputs": [
    {
     "data": {
      "image/png": "[encoded data removed]",
      "text/latex": [
       "$$\\verb|mod.xx | := \\left[\\begin{matrix}\\varphi\\\\q\\\\\\dot{\\varphi}\\\\\\dot{q}\\end{matrix}\\right]$$"
      ],
      "text/plain": [
       "mod.xx  := ⎡varphi ⎤\n",
       "⎢       ⎥\n",
       "⎢   q   ⎥\n",
       "⎢       ⎥\n",
       "⎢varphi̇⎥\n",
       "⎢       ⎥\n",
       "⎣  q̇   ⎦"
      ]
     },
     "metadata": {},
     "output_type": "display_data"
    },
    {
     "name": "stdout",
     "output_type": "stream",
     "text": [
      "___\n"
     ]
    },
    {
     "data": {
      "image/png": "[encoded data removed]",
      "text/latex": [
       "$$\\verb|(mod.f ).T| := \\left[\\begin{matrix}\\dot{\\varphi} & \\dot{q} & \\frac{\\left(g \\left(m_{1} + m_{2}\\right) - l m_{2} \\dot{\\varphi}^{2} \\cos{\\left (\\varphi \\right )}\\right) \\sin{\\left (\\varphi \\right )}}{l \\left(m_{1} + m_{2} \\sin^{2}{\\left (\\varphi \\right )}\\right)} & \\frac{m_{2} \\left(g \\cos{\\left (\\varphi \\right )} - l \\dot{\\varphi}^{2}\\right) \\sin{\\left (\\varphi \\right )}}{m_{1} + m_{2} \\sin^{2}{\\left (\\varphi \\right )}}\\end{matrix}\\right]$$"
      ],
      "text/plain": [
       "(mod.f ).T := ⎡             ⎛                          2            ⎞                 ⎛     \n",
       "⎢             ⎝g⋅(m₁ + m₂) - l⋅m₂⋅varphi̇ ⋅cos(varphi)⎠⋅sin(varphi)  m₂⋅⎝g⋅cos\n",
       "⎢varphi̇  q̇  ─────────────────────────────────────────────────────  ─────────\n",
       "⎢                              ⎛           2        ⎞                         \n",
       "⎣                            l⋅⎝m₁ + m₂⋅sin (varphi)⎠                         \n",
       "\n",
       "                    2⎞            ⎤\n",
       "(varphi) - l⋅varphi̇ ⎠⋅sin(varphi)⎥\n",
       "──────────────────────────────────⎥\n",
       "              2                   ⎥\n",
       "   m₁ + m₂⋅sin (varphi)           ⎦"
      ]
     },
     "metadata": {},
     "output_type": "display_data"
    },
    {
     "name": "stdout",
     "output_type": "stream",
     "text": [
      "___\n"
     ]
    },
    {
     "data": {
      "image/png": "[encoded data removed]",
      "text/latex": [
       "$$\\verb|(mod.g ).T| := \\left[\\begin{matrix}0 & 0 & \\frac{\\cos{\\left (\\varphi \\right )}}{l \\left(m_{1} + m_{2} \\sin^{2}{\\left (\\varphi \\right )}\\right)} & \\frac{1}{m_{1} + m_{2} \\sin^{2}{\\left (\\varphi \\right )}}\\end{matrix}\\right]$$"
      ],
      "text/plain": [
       "(mod.g ).T := ⎡            cos(varphi)                  1          ⎤\n",
       "⎢0  0  ────────────────────────  ────────────────────⎥\n",
       "⎢        ⎛           2        ⎞             2        ⎥\n",
       "⎣      l⋅⎝m₁ + m₂⋅sin (varphi)⎠  m₁ + m₂⋅sin (varphi)⎦"
      ]
     },
     "metadata": {},
     "output_type": "display_data"
    },
    {
     "name": "stdout",
     "output_type": "stream",
     "text": [
      "___\n"
     ]
    }
   ],
   "source": [
    "mod = mt.generate_symbolic_model(E, V, ttheta, [0, u])\n",
    "mod.calc_state_eq()\n",
    "mod.xx ##:\n",
    "mod.f ##:T\n",
    "mod.g ##:T"
   ]
  },
  {
   "cell_type": "markdown",
   "metadata": {},
   "source": [
    "### Linearisierung um die obere Ruhelage"
   ]
  },
  {
   "cell_type": "code",
   "execution_count": 7,
   "metadata": {},
   "outputs": [
    {
     "data": {
      "image/png": "[encoded data removed]",
      "text/latex": [
       "$$\\verb|eqp| := \\left[\\begin{matrix}0\\\\q_{r}\\\\0\\\\0\\end{matrix}\\right]$$"
      ],
      "text/plain": [
       "eqp := ⎡0 ⎤\n",
       "⎢  ⎥\n",
       "⎢qᵣ⎥\n",
       "⎢  ⎥\n",
       "⎢0 ⎥\n",
       "⎢  ⎥\n",
       "⎣0 ⎦"
      ]
     },
     "metadata": {},
     "output_type": "display_data"
    },
    {
     "name": "stdout",
     "output_type": "stream",
     "text": [
      "---\n"
     ]
    },
    {
     "data": {
      "image/png": "[encoded data removed]",
      "text/latex": [
       "$$\\verb|replm| := \\left [ \\left ( g, \\quad 9.80665\\right ), \\quad \\left ( m_{1}, \\quad 1\\right ), \\quad \\left ( m_{2}, \\quad 0.1\\right ), \\quad \\left ( l, \\quad 0.5\\right ), \\quad \\left ( \\varphi, \\quad 0\\right ), \\quad \\left ( q, \\quad q_{r}\\right ), \\quad \\left ( \\dot{\\varphi}, \\quad 0\\right ), \\quad \\left ( \\dot{q}, \\quad 0\\right )\\right ]$$"
      ],
      "text/plain": [
       "replm := [(g, 9.80665), (m₁, 1), (m₂, 0.1), (l, 0.5), (varphi, 0), (q, qᵣ), (varphi̇, 0\n",
       "), (q̇, 0)]"
      ]
     },
     "metadata": {},
     "output_type": "display_data"
    },
    {
     "name": "stdout",
     "output_type": "stream",
     "text": [
      "---\n"
     ]
    },
    {
     "data": {
      "image/png": "[encoded data removed]",
      "text/latex": [
       "$$\\verb|mod.A| := \\left[\\begin{matrix}0 & 0 & 1 & 0\\\\0 & 0 & 0 & 1\\\\21.57463 & 0 & 0 & 0\\\\0.980665 & 0 & 0 & 0\\end{matrix}\\right]$$"
      ],
      "text/plain": [
       "mod.A := ⎡   0      0  1  0⎤\n",
       "⎢                 ⎥\n",
       "⎢   0      0  0  1⎥\n",
       "⎢                 ⎥\n",
       "⎢21.57463  0  0  0⎥\n",
       "⎢                 ⎥\n",
       "⎣0.980665  0  0  0⎦"
      ]
     },
     "metadata": {},
     "output_type": "display_data"
    },
    {
     "name": "stdout",
     "output_type": "stream",
     "text": [
      "---\n"
     ]
    },
    {
     "data": {
      "image/png": "[encoded data removed]",
      "text/latex": [
       "$$\\verb|mod.b| := \\left[\\begin{matrix}0\\\\0\\\\2.0\\\\1\\end{matrix}\\right]$$"
      ],
      "text/plain": [
       "mod.b := ⎡ 0 ⎤\n",
       "⎢   ⎥\n",
       "⎢ 0 ⎥\n",
       "⎢   ⎥\n",
       "⎢2.0⎥\n",
       "⎢   ⎥\n",
       "⎣ 1 ⎦"
      ]
     },
     "metadata": {},
     "output_type": "display_data"
    },
    {
     "name": "stdout",
     "output_type": "stream",
     "text": [
      "---\n"
     ]
    }
   ],
   "source": [
    "eqp = sp.Matrix([0, q_r, 0, 0]) # 1m side stepping ##:\n",
    "\n",
    "# Parameterwerte\n",
    "parameter_values = [(g, gravity), (m1, 1), (m2, 0.1), (l, 0.5)]\n",
    "replm =  parameter_values + list(zip(mod.xx, eqp)) ##:\n",
    "\n",
    "mod.A = mod.f.jacobian(mod.xx).subs(replm) ##:\n",
    "mod.b = mod.g.subs(replm) ##:\n"
   ]
  },
  {
   "cell_type": "markdown",
   "metadata": {},
   "source": [
    "### Transformation auf Regelungsnormalform"
   ]
  },
  {
   "cell_type": "code",
   "execution_count": 8,
   "metadata": {},
   "outputs": [
    {
     "data": {
      "image/png": "[encoded data removed]",
      "text/latex": [
       "$$\\verb|Q | := \\left[\\begin{matrix}0 & 2.0 & 0 & 43.14926\\\\0 & 1 & 0 & 1.96133\\\\2.0 & 0 & 43.14926 & 0\\\\1 & 0 & 1.96133 & 0\\end{matrix}\\right]$$"
      ],
      "text/plain": [
       "Q  := ⎡ 0   2.0     0      43.14926⎤\n",
       "⎢                            ⎥\n",
       "⎢ 0    1      0      1.96133 ⎥\n",
       "⎢                            ⎥\n",
       "⎢2.0   0   43.14926     0    ⎥\n",
       "⎢                            ⎥\n",
       "⎣ 1    0   1.96133      0    ⎦"
      ]
     },
     "metadata": {},
     "output_type": "display_data"
    },
    {
     "name": "stdout",
     "output_type": "stream",
     "text": [
      "___\n"
     ]
    },
    {
     "data": {
      "image/png": "[encoded data removed]",
      "text/latex": [
       "$$\\verb|t_.T| := \\left[\\begin{matrix}0.0254929053244482 & -0.0509858106488964 & 0 & 0\\end{matrix}\\right]$$"
      ],
      "text/plain": [
       "t_.T := [0.0254929053244482  -0.0509858106488964  0  0]"
      ]
     },
     "metadata": {},
     "output_type": "display_data"
    },
    {
     "name": "stdout",
     "output_type": "stream",
     "text": [
      "---\n"
     ]
    },
    {
     "data": {
      "image/png": "[encoded data removed]",
      "text/latex": [
       "$$\\verb|T_ | := \\left[\\begin{matrix}0.0254929053244482 & -0.0509858106488964 & 0 & 0\\\\0 & 0 & 0.0254929053244482 & -0.0509858106488964\\\\0.5 & 0 & 0 & 0\\\\0 & 0 & 0.5 & 0\\end{matrix}\\right]$$"
      ],
      "text/plain": [
       "T_  := ⎡0.0254929053244482  -0.0509858106488964          0                    0      \n",
       "⎢                                                                             \n",
       "⎢        0                    0           0.0254929053244482  -0.0509858106488\n",
       "⎢                                                                             \n",
       "⎢       0.5                   0                   0                    0      \n",
       "⎢                                                                             \n",
       "⎣        0                    0                  0.5                   0      \n",
       "\n",
       "   ⎤\n",
       "   ⎥\n",
       "964⎥\n",
       "   ⎥\n",
       "   ⎥\n",
       "   ⎥\n",
       "   ⎦"
      ]
     },
     "metadata": {},
     "output_type": "display_data"
    },
    {
     "name": "stdout",
     "output_type": "stream",
     "text": [
      "___\n"
     ]
    }
   ],
   "source": [
    "Q = sp.Matrix() # Steuerbarkeitsmatrix\n",
    "for i in range(4):\n",
    "    Q = Q.col_insert(i, mod.A**i * mod.b)\n",
    "    \n",
    "Q ##:\n",
    "t_ = Q.inv()[-1, :].T ##:T\n",
    "\n",
    "T_ = sp.Matrix() # Transformationsmatrix \n",
    "for i in range(4):\n",
    "    T_ = T_.row_insert(i, t_.T * mod.A**i)\n",
    "    \n",
    "T_ ##:"
   ]
  },
  {
   "cell_type": "code",
   "execution_count": 9,
   "metadata": {},
   "outputs": [
    {
     "data": {
      "image/png": "[encoded data removed]",
      "text/latex": [
       "$$\\verb|za| := \\left[\\begin{matrix}0\\end{matrix}\\right]$$"
      ],
      "text/plain": [
       "za := [0]"
      ]
     },
     "metadata": {},
     "output_type": "display_data"
    },
    {
     "name": "stdout",
     "output_type": "stream",
     "text": [
      "---\n"
     ]
    },
    {
     "data": {
      "image/png": "[encoded data removed]",
      "text/latex": [
       "$$\\verb|zb| := \\left[\\begin{matrix}-0.0254929053244482\\end{matrix}\\right]$$"
      ],
      "text/plain": [
       "zb := [-0.0254929053244482]"
      ]
     },
     "metadata": {},
     "output_type": "display_data"
    },
    {
     "name": "stdout",
     "output_type": "stream",
     "text": [
      "---\n"
     ]
    },
    {
     "data": {
      "image/png": "[encoded data removed]",
      "text/latex": [
       "$$\\verb|z| := \\left[\\begin{matrix}- \\frac{1.78450337271137 t^{9}}{T} + \\frac{8.03026517720119 t^{8}}{T} - \\frac{13.766168875202 t^{7}}{T} + \\frac{10.7070202362682 t^{6}}{T} - \\frac{3.21210607088047 t^{5}}{T}\\end{matrix}\\right]$$"
      ],
      "text/plain": [
       "z := ⎡                    9                     8                    7             \n",
       "⎢  1.78450337271137⋅t    8.03026517720119⋅t    13.766168875202⋅t    10.7070202\n",
       "⎢- ─────────────────── + ─────────────────── - ────────────────── + ──────────\n",
       "⎣           T                     T                    T                     T\n",
       "\n",
       "        6                     5⎤\n",
       "362682⋅t    3.21210607088047⋅t ⎥\n",
       "───────── - ───────────────────⎥\n",
       "                     T         ⎦"
      ]
     },
     "metadata": {},
     "output_type": "display_data"
    },
    {
     "name": "stdout",
     "output_type": "stream",
     "text": [
      "---\n"
     ]
    },
    {
     "data": {
      "image/png": "[encoded data removed]",
      "text/latex": [
       "$$\\verb|u| := \\left[\\begin{matrix}- \\frac{21.57463 t^{3}}{T} \\left(- 128.484242835219 t^{4} + 449.694849923266 t^{3} - 578.179092758485 t^{2} + 321.210607088047 t - 64.2421214176095\\right) + \\frac{t}{T} \\left(- 5396.3381990792 t^{4} + 13490.845497698 t^{3} - 11563.5818551697 t^{2} + 3854.52728505657 t - 385.452728505657\\right)\\end{matrix}\\right]$$"
      ],
      "text/plain": [
       "u := ⎡            3 ⎛                    4                     3                   \n",
       "⎢  21.57463⋅t ⋅⎝- 128.484242835219⋅t  + 449.694849923266⋅t  - 578.179092758485\n",
       "⎢- ───────────────────────────────────────────────────────────────────────────\n",
       "⎣                                                             T               \n",
       "\n",
       "  2                                        ⎞     ⎛                   4        \n",
       "⋅t  + 321.210607088047⋅t - 64.2421214176095⎠   t⋅⎝- 5396.3381990792⋅t  + 13490\n",
       "──────────────────────────────────────────── + ───────────────────────────────\n",
       "                                                                              \n",
       "\n",
       "            3                     2                                        ⎞⎤\n",
       ".845497698⋅t  - 11563.5818551697⋅t  + 3854.52728505657⋅t - 385.452728505657⎠⎥\n",
       "────────────────────────────────────────────────────────────────────────────⎥\n",
       "                      T                                                     ⎦"
      ]
     },
     "metadata": {},
     "output_type": "display_data"
    },
    {
     "name": "stdout",
     "output_type": "stream",
     "text": [
      "---\n"
     ]
    }
   ],
   "source": [
    "za = t_.T * eqp.subs(q_r, 0) ##:\n",
    "zb = t_.T * eqp.subs(q_r, 0.5) ##:\n",
    "n = 4\n",
    "z = za + (zb - za) * np.array([[126, -420, 540, -315, 70]])  * sp.Matrix([t**i / T for i in range(n+1, 2*n+2)]) ##:\n",
    "\n",
    "Z = sp.Matrix([sp.diff(z, t, i) for i in range(n)])\n",
    "u = sp.diff(z, t, 4) - t_.T * mod.A**4 * T_.inv() * Z ##:"
   ]
  },
  {
   "cell_type": "code",
   "execution_count": 10,
   "metadata": {},
   "outputs": [
    {
     "data": {
      "image/png": "[encoded data removed]",
      "text/plain": [
       "<Figure size 432x288 with 1 Axes>"
      ]
     },
     "metadata": {},
     "output_type": "display_data"
    }
   ],
   "source": [
    "lam_u = sp.lambdify(t, u.subs(T, 1), modules=['numpy'])\n",
    "x = np.linspace(0, 1, 100)\n",
    "y = lam_u(x).flatten()\n",
    "\n",
    "plt.plot(x, y)\n",
    "plt.grid()\n",
    "plt.xlabel(\"Zeit $t$\")\n",
    "plt.ylabel(\"u(t)\")\n",
    "plt.show()"
   ]
  },
  {
   "cell_type": "markdown",
   "metadata": {},
   "source": [
    "### Simulation (nicht lineares Modell)"
   ]
  },
  {
   "cell_type": "code",
   "execution_count": 11,
   "metadata": {},
   "outputs": [
    {
     "data": {
      "image/png": "[encoded data removed]",
      "text/latex": [
       "$$\\verb|tt.shape | := \\left ( 11000\\right )$$"
      ],
      "text/plain": [
       "tt.shape  := (11000,)"
      ]
     },
     "metadata": {},
     "output_type": "display_data"
    },
    {
     "name": "stdout",
     "output_type": "stream",
     "text": [
      "___\n"
     ]
    }
   ],
   "source": [
    "# Zeit-Array und Anfangswerte\n",
    "tt = np.arange(0, 1.1, 0.1e-3)\n",
    "tt.shape ##:\n",
    "xx0 = st.to_np(eqp.subs(q_r, 0.0)).ravel()\n",
    "\n",
    "#Erstellung des Simulationsmodells\n",
    "sm = st.SimulationModel(mod.f, mod.g, mod.xx, model_parameters=parameter_values)\n",
    "rhs1 = sm.create_simfunction(input_function=lam_u)\n",
    "\n",
    "# Durchführung der Simulation\n",
    "res = odeint(rhs1, xx0, tt)\n",
    "X1, X2, X3, X4 = res.T"
   ]
  },
  {
   "cell_type": "code",
   "execution_count": 12,
   "metadata": {},
   "outputs": [
    {
     "data": {
      "image/png": "[encoded data removed]",
      "text/plain": [
       "<Figure size 1080x288 with 4 Axes>"
      ]
     },
     "metadata": {},
     "output_type": "display_data"
    }
   ],
   "source": [
    "plt.figure(figsize=(15,4))\n",
    "plt.subplot(1, 4, 1)\n",
    "plt.plot(tt, X1, label=r\"$\\varphi$\")\n",
    "plt.legend(loc='best', fontsize=16)\n",
    "plt.subplot(1, 4, 2)\n",
    "plt.plot(tt, X2, label=\"$q$\")\n",
    "plt.legend(loc='best', fontsize=16)\n",
    "plt.subplot(1, 4, 3)\n",
    "plt.plot(tt, X3, label=r\"$\\dot{\\varphi}$\")\n",
    "plt.legend(loc='best', fontsize=16)\n",
    "plt.subplot(1, 4, 4)\n",
    "plt.plot(tt, X4, label=r\"$\\dot{q}$\")\n",
    "plt.legend(loc='best', fontsize=16);"
   ]
  },
  {
   "cell_type": "markdown",
   "metadata": {},
   "source": [
    "### Simulation (linearisiertes Modell)"
   ]
  },
  {
   "cell_type": "code",
   "execution_count": 13,
   "metadata": {},
   "outputs": [],
   "source": [
    "pendel = scs.StateSpace(np.array(mod.A).astype(np.float64), np.array(mod.b).astype(np.float64), np.eye(4))\n",
    "_, _, res = scs.lsim2(system=pendel, U=lam_u(tt).flatten(), T=tt)"
   ]
  },
  {
   "cell_type": "code",
   "execution_count": 14,
   "metadata": {},
   "outputs": [
    {
     "data": {
      "image/png": "[encoded data removed]",
      "text/plain": [
       "<Figure size 1080x288 with 4 Axes>"
      ]
     },
     "metadata": {},
     "output_type": "display_data"
    }
   ],
   "source": [
    "plt.figure(figsize=(15,4))\n",
    "plt.subplot(1, 4, 1)\n",
    "plt.plot(tt, res[:, 0], label=r\"$\\varphi$\")\n",
    "plt.legend(loc='best', fontsize=16)\n",
    "plt.subplot(1, 4, 2)\n",
    "plt.plot(tt, res[:, 1], label=\"$q$\")\n",
    "plt.legend(loc='best', fontsize=16)\n",
    "plt.subplot(1, 4, 3)\n",
    "plt.plot(tt, res[:, 2], label=r\"$\\dot{\\varphi}$\")\n",
    "plt.legend(loc='best', fontsize=16)\n",
    "plt.subplot(1, 4, 4)\n",
    "plt.plot(tt, res[:, 3], label=r\"$\\dot{q}$\")\n",
    "plt.legend(loc='best', fontsize=16);"
   ]
  },
  {
   "cell_type": "markdown",
   "metadata": {},
   "source": [
    "### Generierung von Trainingsdaten"
   ]
  },
  {
   "cell_type": "code",
   "execution_count": 15,
   "metadata": {},
   "outputs": [],
   "source": [
    "Y = []\n",
    "X = np.linspace(0.1, 1.0, 100)\n",
    "\n",
    "for q in X:\n",
    "    zb = t_.T * eqp.subs(q_r, q)\n",
    "    z = za + (zb - za) * np.array([[126, -420, 540, -315, 70]]) * sp.Matrix([t**i / T for i in range(n+1, 2*n+2)]) ##:\n",
    "    Z = sp.Matrix([sp.diff(z, t, i) for i in range(n)])\n",
    "    u = sp.diff(z, t, 4) - t_.T * mod.A**4 * T_.inv() * Z\n",
    "    U = sp.Poly(u.subs(T, 1).tolist()[0][0], t)\n",
    "    Y.append(U.coeffs())\n",
    "\n",
    "Y = np.array(Y).astype(np.float32)"
   ]
  },
  {
   "cell_type": "code",
   "execution_count": 16,
   "metadata": {},
   "outputs": [
    {
     "name": "stdout",
     "output_type": "stream",
     "text": [
      "***Training von Modell 0***\n"
     ]
    },
    {
     "data": {
      "application/vnd.jupyter.widget-view+json": {
       "model_id": "e8665d8c1fba4b54ad3159d53364c033",
       "version_major": 2,
       "version_minor": 0
      },
      "text/plain": [
       "HBox(children=(IntProgress(value=0, max=150), HTML(value='')))"
      ]
     },
     "metadata": {},
     "output_type": "display_data"
    },
    {
     "name": "stdout",
     "output_type": "stream",
     "text": [
      "\n",
      "***Training von Modell 1***\n"
     ]
    },
    {
     "data": {
      "application/vnd.jupyter.widget-view+json": {
       "model_id": "0fe160a8dd99466ea995e9c5f7d7137d",
       "version_major": 2,
       "version_minor": 0
      },
      "text/plain": [
       "HBox(children=(IntProgress(value=0, max=150), HTML(value='')))"
      ]
     },
     "metadata": {},
     "output_type": "display_data"
    },
    {
     "name": "stdout",
     "output_type": "stream",
     "text": [
      "\n",
      "***Training von Modell 2***\n"
     ]
    },
    {
     "data": {
      "application/vnd.jupyter.widget-view+json": {
       "model_id": "70940b617d814a0aa0a0a1c1bb3ed430",
       "version_major": 2,
       "version_minor": 0
      },
      "text/plain": [
       "HBox(children=(IntProgress(value=0, max=150), HTML(value='')))"
      ]
     },
     "metadata": {},
     "output_type": "display_data"
    },
    {
     "name": "stdout",
     "output_type": "stream",
     "text": [
      "\n",
      "***Training von Modell 3***\n"
     ]
    },
    {
     "data": {
      "application/vnd.jupyter.widget-view+json": {
       "model_id": "c5ee2f9eec06412689e72207193771d2",
       "version_major": 2,
       "version_minor": 0
      },
      "text/plain": [
       "HBox(children=(IntProgress(value=0, max=150), HTML(value='')))"
      ]
     },
     "metadata": {},
     "output_type": "display_data"
    },
    {
     "name": "stdout",
     "output_type": "stream",
     "text": [
      "\n",
      "***Training von Modell 4***\n"
     ]
    },
    {
     "data": {
      "application/vnd.jupyter.widget-view+json": {
       "model_id": "f5b27ebe1c7d4791a7e50a2d5a40b973",
       "version_major": 2,
       "version_minor": 0
      },
      "text/plain": [
       "HBox(children=(IntProgress(value=0, max=150), HTML(value='')))"
      ]
     },
     "metadata": {},
     "output_type": "display_data"
    },
    {
     "name": "stdout",
     "output_type": "stream",
     "text": [
      "\n",
      "***Training von Modell 5***\n"
     ]
    },
    {
     "data": {
      "application/vnd.jupyter.widget-view+json": {
       "model_id": "6b397b1db9d84856b653f68208c6f0bb",
       "version_major": 2,
       "version_minor": 0
      },
      "text/plain": [
       "HBox(children=(IntProgress(value=0, max=150), HTML(value='')))"
      ]
     },
     "metadata": {},
     "output_type": "display_data"
    },
    {
     "name": "stdout",
     "output_type": "stream",
     "text": [
      "\n",
      "***Training von Modell 6***\n"
     ]
    },
    {
     "data": {
      "application/vnd.jupyter.widget-view+json": {
       "model_id": "11bd859f9790490aa57257da7d0b1330",
       "version_major": 2,
       "version_minor": 0
      },
      "text/plain": [
       "HBox(children=(IntProgress(value=0, max=150), HTML(value='')))"
      ]
     },
     "metadata": {},
     "output_type": "display_data"
    },
    {
     "name": "stdout",
     "output_type": "stream",
     "text": [
      "\n"
     ]
    }
   ],
   "source": [
    "from lolimot import LolimotRegressor\n",
    "\n",
    "model_complexity = 150\n",
    "LLM = []\n",
    "\n",
    "for i in range(Y.shape[1]):\n",
    "    llm = LolimotRegressor(model_complexity=model_complexity, notebook=True)\n",
    "    print(f\"***Training von Modell {i}***\")\n",
    "    LLM.append(llm.fit(X=X[:,np.newaxis], y=Y[:, i]))"
   ]
  },
  {
   "cell_type": "code",
   "execution_count": 17,
   "metadata": {},
   "outputs": [
    {
     "data": {
      "image/png": "[encoded data removed]",
      "text/latex": [
       "$$\\verb|poly| := \\left[\\begin{matrix}2772.00000003931 t^{7} - 9701.99999984275 t^{6} + 7077.66162109973 t^{5} + 6560.8457022578 t^{4} - 10177.5820315674 t^{3} + 3854.52734936877 t^{2} - 385.452727927226 t\\end{matrix}\\right]$$"
      ],
      "text/plain": [
       "poly := ⎡                  7                     6                     5              \n",
       "⎣2772.00000003931⋅t  - 9701.99999984275⋅t  + 7077.66162109973⋅t  + 6560.845702\n",
       "\n",
       "      4                     3                     2                     ⎤\n",
       "2578⋅t  - 10177.5820315674⋅t  + 3854.52734936877⋅t  - 385.452727927226⋅t⎦"
      ]
     },
     "metadata": {},
     "output_type": "display_data"
    },
    {
     "name": "stdout",
     "output_type": "stream",
     "text": [
      "---\n"
     ]
    },
    {
     "data": {
      "image/png": "[encoded data removed]",
      "text/plain": [
       "<Figure size 432x288 with 1 Axes>"
      ]
     },
     "metadata": {},
     "output_type": "display_data"
    }
   ],
   "source": [
    "coeffs = np.flip(np.array([llm.predict(0.5) for llm in LLM]), axis=0)\n",
    "poly = sp.Matrix([t**i for i in range(1, 8)]).T * coeffs ##:\n",
    "\n",
    "lam_u = sp.lambdify(t, poly, modules=['numpy'])\n",
    "_, _, res = scs.lsim2(system=pendel, U=lam_u(tt).flatten(), T=tt)\n",
    "\n",
    "x = np.linspace(0, 1, 100)\n",
    "y = lam_u(x).flatten()\n",
    "\n",
    "plt.plot(x, y)\n",
    "plt.grid()\n",
    "plt.xlabel(\"Zeit $t$\")\n",
    "plt.ylabel(\"u(t)\")\n",
    "plt.show()"
   ]
  },
  {
   "cell_type": "code",
   "execution_count": 18,
   "metadata": {},
   "outputs": [
    {
     "data": {
      "image/png": "[encoded data removed]",
      "text/plain": [
       "<Figure size 1080x288 with 4 Axes>"
      ]
     },
     "metadata": {},
     "output_type": "display_data"
    }
   ],
   "source": [
    "plt.figure(figsize=(15,4))\n",
    "plt.subplot(1, 4, 1)\n",
    "plt.plot(tt, res[:, 0], label=r\"$\\varphi$\")\n",
    "plt.legend(loc='best', fontsize=16)\n",
    "plt.subplot(1, 4, 2)\n",
    "plt.plot(tt, res[:, 1], label=\"$q$\")\n",
    "plt.legend(loc='best', fontsize=16)\n",
    "plt.subplot(1, 4, 3)\n",
    "plt.plot(tt, res[:, 2], label=r\"$\\dot{\\varphi}$\")\n",
    "plt.legend(loc='best', fontsize=16)\n",
    "plt.subplot(1, 4, 4)\n",
    "plt.plot(tt, res[:, 3], label=r\"$\\dot{q}$\")\n",
    "plt.legend(loc='best', fontsize=16);"
   ]
  },
  {
   "cell_type": "markdown",
   "metadata": {},
   "source": [
    "## Überprüfung auf statische Eingangs-Zustands-Linearisierbarkeit\n",
    "\n",
    "Konstrunktion der Distributionen $\\Delta_k$"
   ]
  },
  {
   "cell_type": "code",
   "execution_count": 19,
   "metadata": {},
   "outputs": [
    {
     "data": {
      "image/png": "[encoded data removed]",
      "text/latex": [
       "$$\\verb|f| := \\left[\\begin{matrix}\\dot{\\varphi}\\\\\\dot{q}\\\\\\frac{g}{l} \\sin{\\left (\\varphi \\right )}\\\\0\\end{matrix}\\right]$$"
      ],
      "text/plain": [
       "f := ⎡   varphi̇   ⎤\n",
       "⎢             ⎥\n",
       "⎢     q̇      ⎥\n",
       "⎢             ⎥\n",
       "⎢g⋅sin(varphi)⎥\n",
       "⎢─────────────⎥\n",
       "⎢      l      ⎥\n",
       "⎢             ⎥\n",
       "⎣      0      ⎦"
      ]
     },
     "metadata": {},
     "output_type": "display_data"
    },
    {
     "name": "stdout",
     "output_type": "stream",
     "text": [
      "---\n"
     ]
    },
    {
     "data": {
      "image/png": "[encoded data removed]",
      "text/latex": [
       "$$\\verb|G| := \\left[\\begin{matrix}0\\\\0\\\\\\frac{1}{l} \\cos{\\left (\\varphi \\right )}\\\\1\\end{matrix}\\right]$$"
      ],
      "text/plain": [
       "G := ⎡     0     ⎤\n",
       "⎢           ⎥\n",
       "⎢     0     ⎥\n",
       "⎢           ⎥\n",
       "⎢cos(varphi)⎥\n",
       "⎢───────────⎥\n",
       "⎢     l     ⎥\n",
       "⎢           ⎥\n",
       "⎣     1     ⎦"
      ]
     },
     "metadata": {},
     "output_type": "display_data"
    },
    {
     "name": "stdout",
     "output_type": "stream",
     "text": [
      "---\n"
     ]
    },
    {
     "data": {
      "image/png": "[encoded data removed]",
      "text/latex": [
       "$$\\verb|xx.T| := \\left[\\begin{matrix}\\varphi & q & \\dot{\\varphi} & \\dot{q}\\end{matrix}\\right]$$"
      ],
      "text/plain": [
       "xx.T := [varphi  q  varphi̇  q̇]"
      ]
     },
     "metadata": {},
     "output_type": "display_data"
    },
    {
     "name": "stdout",
     "output_type": "stream",
     "text": [
      "---\n"
     ]
    }
   ],
   "source": [
    "mod.calc_coll_part_lin_state_eq()\n",
    "f = mod.ff ##:\n",
    "G = mod.gg ##:\n",
    "#g1, g2 = st.col_split(G)\n",
    "\n",
    "xx = mod.x ##:T"
   ]
  },
  {
   "cell_type": "code",
   "execution_count": 20,
   "metadata": {},
   "outputs": [],
   "source": [
    "nx = len(xx)\n",
    "\n",
    "# Liste der Distributionen\n",
    "# (mit Eingangsvektorfeldern starten (Delta_0 = G) )\n",
    "Delta_list = [G]\n",
    "\n",
    "for k in range(1, nx):\n",
    "    Delta_j_full = Delta_list[-1]\n",
    "    Delta_j = Delta_j_full[:, -n_q:]# nur die letzten n_q Spalten für Lieklammer relevant\n",
    "    Delta_k = []\n",
    "    for vf in st.col_split(Delta_j):\n",
    "        Delta_k.append(st.lie_bracket(f, vf, xx))\n",
    "    \n",
    "    # neu berechnete VF zusammen mit bisherigen in Matrix konvertieren\n",
    "    Delta_k = st.col_stack(Delta_j_full, *Delta_k)\n",
    "    Delta_list.append(Delta_k)"
   ]
  },
  {
   "cell_type": "code",
   "execution_count": 22,
   "metadata": {},
   "outputs": [
    {
     "name": "stdout",
     "output_type": "stream",
     "text": [
      "dim(Delta_0) = 1\n",
      "Delta_0 involutiv? True\n",
      "\n",
      "dim(Delta_1) = 2\n",
      "Delta_1 involutiv? False\n",
      "\n",
      "dim(Delta_2) = 3\n",
      "Delta_2 involutiv? False\n",
      "\n",
      "dim(Delta_3) = 4\n",
      "Delta_3 involutiv? True\n",
      "\n"
     ]
    }
   ],
   "source": [
    "for i, D in enumerate(Delta_list):\n",
    "    print(f\"dim(Delta_{i}) = {st.rnd_number_rank(D)}\")\n",
    "    \n",
    "    # failing_vf enthält die ersten beiden VF, deren Lie-Klammer nicht in der Distribution liegen\n",
    "    inv_flag, failing_vf = st.involutivity_test(D, xx)\n",
    "    print(f\"Delta_{i} involutiv? {inv_flag}\\n\")"
   ]
  }
 ],
 "metadata": {
  "kernelspec": {
   "display_name": "Python 3",
   "language": "python",
   "name": "python3"
  },
  "language_info": {
   "codemirror_mode": {
    "name": "ipython",
    "version": 3
   },
   "file_extension": ".py",
   "mimetype": "text/x-python",
   "name": "python",
   "nbconvert_exporter": "python",
   "pygments_lexer": "ipython3",
   "version": "3.6.5"
  }
 },
 "nbformat": 4,
 "nbformat_minor": 1
}
